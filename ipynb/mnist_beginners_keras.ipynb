{
 "cells": [
  {
   "cell_type": "markdown",
   "metadata": {},
   "source": [
    "* [Home - Keras Documentation](https://keras.io/ja/)\n",
    "* [kerasのmnistのサンプルを読んでみる - Qiita](https://qiita.com/ash8h/items/29e24fc617b832fba136)"
   ]
  },
  {
   "cell_type": "code",
   "execution_count": 1,
   "metadata": {},
   "outputs": [
    {
     "name": "stderr",
     "output_type": "stream",
     "text": [
      "Using TensorFlow backend.\n"
     ]
    }
   ],
   "source": [
    "import keras\n",
    "from keras.datasets import mnist\n",
    "from keras.models import Sequential\n",
    "from keras.layers import Dense, Dropout\n",
    "from keras.optimizers import RMSprop\n",
    "\n",
    "batch_size = 128\n",
    "num_classes = 10\n",
    "epochs = 20"
   ]
  },
  {
   "cell_type": "code",
   "execution_count": 2,
   "metadata": {},
   "outputs": [
    {
     "name": "stdout",
     "output_type": "stream",
     "text": [
      "Downloading data from https://s3.amazonaws.com/img-datasets/mnist.npz\n",
      "11493376/11490434 [==============================] - 96s 8us/step\n"
     ]
    }
   ],
   "source": [
    "# the data, shuffled and split between train and test sets\n",
    "(x_train, y_train), (x_test, y_test) = mnist.load_data()"
   ]
  },
  {
   "cell_type": "code",
   "execution_count": 3,
   "metadata": {},
   "outputs": [
    {
     "name": "stdout",
     "output_type": "stream",
     "text": [
      "60000 train samples\n",
      "10000 test samples\n"
     ]
    }
   ],
   "source": [
    "x_train = x_train.reshape(60000, 784) # 2次元配列を1次元に変換\n",
    "x_test = x_test.reshape(10000, 784)\n",
    "x_train = x_train.astype('float32')   # int型をfloat32型に変換\n",
    "x_test = x_test.astype('float32')\n",
    "x_train /= 255                        # [0-255]の値を[0.0-1.0]に変換\n",
    "x_test /= 255\n",
    "print(x_train.shape[0], 'train samples')\n",
    "print(x_test.shape[0], 'test samples')"
   ]
  },
  {
   "cell_type": "code",
   "execution_count": 4,
   "metadata": {},
   "outputs": [],
   "source": [
    "# convert class vectors to binary class matrices\n",
    "y_train = keras.utils.to_categorical(y_train, num_classes)\n",
    "y_test = keras.utils.to_categorical(y_test, num_classes)"
   ]
  },
  {
   "cell_type": "code",
   "execution_count": null,
   "metadata": {},
   "outputs": [],
   "source": [
    "# モデル構築\n",
    "\n",
    "* [ソフトマックス関数](https://mathtrain.jp/softmax)"
   ]
  },
  {
   "cell_type": "code",
   "execution_count": 5,
   "metadata": {},
   "outputs": [
    {
     "name": "stdout",
     "output_type": "stream",
     "text": [
      "WARNING:tensorflow:From /Users/ynaka/anaconda3/envs/mnist/lib/python3.6/site-packages/tensorflow/python/framework/op_def_library.py:263: colocate_with (from tensorflow.python.framework.ops) is deprecated and will be removed in a future version.\n",
      "Instructions for updating:\n",
      "Colocations handled automatically by placer.\n",
      "_________________________________________________________________\n",
      "Layer (type)                 Output Shape              Param #   \n",
      "=================================================================\n",
      "dense_1 (Dense)              (None, 10)                7850      \n",
      "=================================================================\n",
      "Total params: 7,850\n",
      "Trainable params: 7,850\n",
      "Non-trainable params: 0\n",
      "_________________________________________________________________\n"
     ]
    }
   ],
   "source": [
    "model = Sequential()\n",
    "model.add(Dense(10, activation='softmax', input_shape=(784,)))\n",
    "\n",
    "model.summary()\n",
    "model.compile(loss='categorical_crossentropy',\n",
    "              optimizer=RMSprop(),\n",
    "              metrics=['accuracy'])"
   ]
  },
  {
   "cell_type": "code",
   "execution_count": null,
   "metadata": {},
   "outputs": [],
   "source": [
    "# 学習"
   ]
  },
  {
   "cell_type": "code",
   "execution_count": 6,
   "metadata": {},
   "outputs": [
    {
     "name": "stdout",
     "output_type": "stream",
     "text": [
      "WARNING:tensorflow:From /Users/ynaka/anaconda3/envs/mnist/lib/python3.6/site-packages/tensorflow/python/ops/math_ops.py:3066: to_int32 (from tensorflow.python.ops.math_ops) is deprecated and will be removed in a future version.\n",
      "Instructions for updating:\n",
      "Use tf.cast instead.\n",
      "Train on 60000 samples, validate on 10000 samples\n",
      "Epoch 1/20\n",
      "60000/60000 [==============================] - 1s 17us/step - loss: 0.6082 - acc: 0.8473 - val_loss: 0.3419 - val_acc: 0.9068\n",
      "Epoch 2/20\n",
      "60000/60000 [==============================] - 1s 13us/step - loss: 0.3301 - acc: 0.9085 - val_loss: 0.2991 - val_acc: 0.9179\n",
      "Epoch 3/20\n",
      "60000/60000 [==============================] - 1s 13us/step - loss: 0.3014 - acc: 0.9162 - val_loss: 0.2869 - val_acc: 0.9208\n",
      "Epoch 4/20\n",
      "60000/60000 [==============================] - 1s 14us/step - loss: 0.2881 - acc: 0.9194 - val_loss: 0.2771 - val_acc: 0.9233\n",
      "Epoch 5/20\n",
      "60000/60000 [==============================] - 1s 14us/step - loss: 0.2797 - acc: 0.9224 - val_loss: 0.2738 - val_acc: 0.9241\n",
      "Epoch 6/20\n",
      "60000/60000 [==============================] - 1s 13us/step - loss: 0.2745 - acc: 0.9242 - val_loss: 0.2721 - val_acc: 0.9243\n",
      "Epoch 7/20\n",
      "60000/60000 [==============================] - 1s 13us/step - loss: 0.2703 - acc: 0.9249 - val_loss: 0.2698 - val_acc: 0.9267\n",
      "Epoch 8/20\n",
      "60000/60000 [==============================] - 1s 13us/step - loss: 0.2669 - acc: 0.9258 - val_loss: 0.2703 - val_acc: 0.9259\n",
      "Epoch 9/20\n",
      "60000/60000 [==============================] - 1s 13us/step - loss: 0.2645 - acc: 0.9272 - val_loss: 0.2700 - val_acc: 0.9255\n",
      "Epoch 10/20\n",
      "60000/60000 [==============================] - 1s 13us/step - loss: 0.2623 - acc: 0.9284 - val_loss: 0.2715 - val_acc: 0.9248\n",
      "Epoch 11/20\n",
      "60000/60000 [==============================] - 1s 13us/step - loss: 0.2609 - acc: 0.9280 - val_loss: 0.2681 - val_acc: 0.9249\n",
      "Epoch 12/20\n",
      "60000/60000 [==============================] - 1s 13us/step - loss: 0.2592 - acc: 0.9295 - val_loss: 0.2697 - val_acc: 0.9270\n",
      "Epoch 13/20\n",
      "60000/60000 [==============================] - 1s 13us/step - loss: 0.2580 - acc: 0.9302 - val_loss: 0.2669 - val_acc: 0.9286\n",
      "Epoch 14/20\n",
      "60000/60000 [==============================] - 1s 14us/step - loss: 0.2565 - acc: 0.9301 - val_loss: 0.2728 - val_acc: 0.9263\n",
      "Epoch 15/20\n",
      "60000/60000 [==============================] - 1s 16us/step - loss: 0.2559 - acc: 0.9301 - val_loss: 0.2684 - val_acc: 0.9280\n",
      "Epoch 16/20\n",
      "60000/60000 [==============================] - 1s 16us/step - loss: 0.2548 - acc: 0.9310 - val_loss: 0.2721 - val_acc: 0.9251\n",
      "Epoch 17/20\n",
      "60000/60000 [==============================] - 1s 15us/step - loss: 0.2539 - acc: 0.9315 - val_loss: 0.2687 - val_acc: 0.9272\n",
      "Epoch 18/20\n",
      "60000/60000 [==============================] - 1s 15us/step - loss: 0.2530 - acc: 0.9314 - val_loss: 0.2676 - val_acc: 0.9274\n",
      "Epoch 19/20\n",
      "60000/60000 [==============================] - 1s 15us/step - loss: 0.2526 - acc: 0.9323 - val_loss: 0.2703 - val_acc: 0.9264\n",
      "Epoch 20/20\n",
      "60000/60000 [==============================] - 1s 15us/step - loss: 0.2518 - acc: 0.9319 - val_loss: 0.2693 - val_acc: 0.9286\n"
     ]
    }
   ],
   "source": [
    "history = model.fit(x_train, y_train,  # 画像とラベルデータ\n",
    "                    batch_size=batch_size,\n",
    "                    epochs=epochs,     # エポック数の指定\n",
    "                    verbose=1,         # ログ出力の指定. 0だとログが出ない\n",
    "                    validation_data=(x_test, y_test))"
   ]
  },
  {
   "cell_type": "code",
   "execution_count": null,
   "metadata": {},
   "outputs": [],
   "source": [
    "# 評価"
   ]
  },
  {
   "cell_type": "code",
   "execution_count": 7,
   "metadata": {},
   "outputs": [
    {
     "name": "stdout",
     "output_type": "stream",
     "text": [
      "Test loss: 0.26931469372957945\n",
      "Test accuracy: 0.9286\n"
     ]
    }
   ],
   "source": [
    "score = model.evaluate(x_test, y_test, verbose=0)\n",
    "print('Test loss:', score[0])\n",
    "print('Test accuracy:', score[1])"
   ]
  }
 ],
 "metadata": {
  "kernelspec": {
   "display_name": "Python 3",
   "language": "python",
   "name": "python3"
  },
  "language_info": {
   "codemirror_mode": {
    "name": "ipython",
    "version": 3
   },
   "file_extension": ".py",
   "mimetype": "text/x-python",
   "name": "python",
   "nbconvert_exporter": "python",
   "pygments_lexer": "ipython3",
   "version": "3.6.8"
  }
 },
 "nbformat": 4,
 "nbformat_minor": 2
}
