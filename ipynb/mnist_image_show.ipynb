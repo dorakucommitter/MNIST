{
 "cells": [
  {
   "cell_type": "markdown",
   "metadata": {},
   "source": [
    "# 各種ライブラリのインポート"
   ]
  },
  {
   "cell_type": "code",
   "execution_count": null,
   "metadata": {},
   "outputs": [],
   "source": [
    "# tensorflowライブラリのインポート\n",
    "import tensorflow as tf\n",
    "from tensorflow.examples.tutorials.mnist import input_data\n",
    "\n",
    "# 画像配列表示\n",
    "import matplotlib.cm as cm\n",
    "from matplotlib import pylab as plt\n",
    "\n",
    "import numpy as np"
   ]
  },
  {
   "cell_type": "markdown",
   "metadata": {},
   "source": [
    "# スクリプト内定数設定"
   ]
  },
  {
   "cell_type": "code",
   "execution_count": null,
   "metadata": {},
   "outputs": [],
   "source": [
    "\n",
    "# MNIST画像データ保存場所\n",
    "DATADIR = '../MNIST_data/'\n",
    "\n",
    "# ラベル形式設定\n",
    "# one_hot == True: 画像が「7」の場合、label=[0, 0, 0, 0, 0, 0, 0, 1, 0, 0]\n",
    "# one_hoe != True: 画像が「7」の場合、label=7\n",
    "is_one_hot = True"
   ]
  },
  {
   "cell_type": "markdown",
   "metadata": {},
   "source": [
    "# MNIST画像の読み込み"
   ]
  },
  {
   "cell_type": "code",
   "execution_count": null,
   "metadata": {},
   "outputs": [],
   "source": [
    "# 画像の読み込み\n",
    "print(\"--- MNISTデータの読み込み開始 ---\")\n",
    "mnist = input_data.read_data_sets(DATADIR, one_hot=is_one_hot)\n",
    "print(\"--- MNISTデータの読み込み完了 ---\")"
   ]
  },
  {
   "cell_type": "markdown",
   "metadata": {},
   "source": [
    "# MNIST画像データ数の確認\n",
    "* 訓練画像   : 55,000\n",
    "* テスト画像 : 10,000\n",
    "* 検証画像   : 5,000\n",
    "「テスト」と「検証」の差がわからない．．．"
   ]
  },
  {
   "cell_type": "code",
   "execution_count": null,
   "metadata": {
    "scrolled": true
   },
   "outputs": [],
   "source": [
    "# 文字列の出力方法は3パターンある\n",
    "\n",
    "### 訓練画像 ###\n",
    "print('mnist.train.images = ' + str(len(mnist.train.images)))\n",
    "### 検証画像 ###\n",
    "print('mnist.test.images = {:d}'.format(len(mnist.test.images)))\n",
    "### 検証画像? ###\n",
    "print('mnist.validation.images = %d' % len(mnist.validation.images))"
   ]
  },
  {
   "cell_type": "markdown",
   "metadata": {},
   "source": [
    "# 訓練画像の先頭画像表示"
   ]
  },
  {
   "cell_type": "code",
   "execution_count": null,
   "metadata": {},
   "outputs": [],
   "source": [
    "# 画像情報\n",
    "\n",
    "# データラベル形式\n",
    "if is_one_hot == True:\n",
    "    label = np.argmax(mnist.train.labels[0])\n",
    "else:\n",
    "    label = mnist.train.labels[0]\n",
    "\n",
    "plt.imshow(mnist.train.images[0].reshape(28, 28), cmap = cm.Greys_r)\n",
    "plt.title(str(label))\n",
    "plt.axis('off')\n",
    "plt.show()\n",
    "plt.close()"
   ]
  },
  {
   "cell_type": "code",
   "execution_count": null,
   "metadata": {},
   "outputs": [],
   "source": [
    "# 画素配列\n",
    "print(np.round(mnist.train.images[0].reshape(28, 28)).astype(np.int64))"
   ]
  },
  {
   "cell_type": "markdown",
   "metadata": {},
   "source": [
    "# 訓練画像、テスト画像、検証画像の先頭10枚の表示"
   ]
  },
  {
   "cell_type": "code",
   "execution_count": null,
   "metadata": {},
   "outputs": [],
   "source": [
    "# 訓練画像\n",
    "# 2行x5列の画像出力領域を確保\n",
    "fig, axarr = plt.subplots(2, 5)\n",
    "# 各出力領域に絵をセットする\n",
    "for idx in range(10):\n",
    "    ax = axarr[int(idx / 5)][idx % 5]\n",
    "    ax.imshow(mnist.train.images[idx].reshape(28, 28), cmap = cm.Greys_r)\n",
    "\n",
    "    label = ''\n",
    "    if is_one_hot == True:\n",
    "        label = np.argmax(mnist.train.labels[idx])\n",
    "    else:\n",
    "        label = mnist.train.labels[idx]\n",
    "    ax.set_title(str(label))\n",
    "    ax.axes.get_xaxis().set_visible(False)\n",
    "    ax.axes.get_yaxis().set_visible(False)\n",
    "# 絵を出力する\n",
    "plt.show()\n",
    "plt.close()"
   ]
  },
  {
   "cell_type": "code",
   "execution_count": null,
   "metadata": {},
   "outputs": [],
   "source": [
    "# テスト画像\n",
    "# 2行x5列の画像出力領域を確保\n",
    "fig, axarr = plt.subplots(2, 5)\n",
    "# 各出力領域に絵をセットする\n",
    "for idx in range(10):\n",
    "    ax = axarr[int(idx / 5)][idx % 5]\n",
    "    ax.imshow(mnist.test.images[idx].reshape(28, 28), cmap = cm.Greys_r)\n",
    "\n",
    "    label = ''\n",
    "    if is_one_hot == True:\n",
    "        label = np.argmax(mnist.test.labels[idx])\n",
    "    else:\n",
    "        label = mnist.test.labels[idx]\n",
    "    ax.set_title(str(label))\n",
    "    ax.axes.get_xaxis().set_visible(False)\n",
    "    ax.axes.get_yaxis().set_visible(False)\n",
    "# 絵を出力する\n",
    "plt.show()\n",
    "plt.close()"
   ]
  },
  {
   "cell_type": "code",
   "execution_count": null,
   "metadata": {},
   "outputs": [],
   "source": [
    "# 検証画像\n",
    "# 2行x5列の画像出力領域を確保\n",
    "fig, axarr = plt.subplots(2, 5)\n",
    "# 各出力領域に絵をセットする\n",
    "for idx in range(10):\n",
    "    ax = axarr[int(idx / 5)][idx % 5]\n",
    "    ax.imshow(mnist.validation.images[idx].reshape(28, 28), cmap = cm.Greys_r)\n",
    "\n",
    "    label = ''\n",
    "    if is_one_hot == True:\n",
    "        label = np.argmax(mnist.validation.labels[idx])\n",
    "    else:\n",
    "        label = mnist.validation.labels[idx]\n",
    "    ax.set_title(str(label))\n",
    "    ax.axes.get_xaxis().set_visible(False)\n",
    "    ax.axes.get_yaxis().set_visible(False)\n",
    "# 絵を出力する\n",
    "plt.show()\n",
    "plt.close()"
   ]
  },
  {
   "cell_type": "code",
   "execution_count": null,
   "metadata": {},
   "outputs": [],
   "source": []
  }
 ],
 "metadata": {
  "kernelspec": {
   "display_name": "Python 3",
   "language": "python",
   "name": "python3"
  },
  "language_info": {
   "codemirror_mode": {
    "name": "ipython",
    "version": 3
   },
   "file_extension": ".py",
   "mimetype": "text/x-python",
   "name": "python",
   "nbconvert_exporter": "python",
   "pygments_lexer": "ipython3",
   "version": "3.6.8"
  }
 },
 "nbformat": 4,
 "nbformat_minor": 2
}
