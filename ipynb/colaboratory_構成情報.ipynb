{
  "nbformat": 4,
  "nbformat_minor": 0,
  "metadata": {
    "colab": {
      "name": "Colaboratoryの構成調査.ipynb",
      "version": "0.3.2",
      "provenance": [],
      "collapsed_sections": []
    },
    "kernelspec": {
      "name": "python3",
      "display_name": "Python 3"
    },
    "accelerator": "GPU"
  },
  "cells": [
    {
      "cell_type": "markdown",
      "metadata": {
        "id": "UlRoAtJuuDjF",
        "colab_type": "text"
      },
      "source": [
        "# Colaboratoryのスペック確認\n",
        "\n",
        "Colaboratoryを使う前にスペックを確認します。\n",
        "\n",
        "\n",
        "## ランタイムの選択\n",
        "\n",
        "* ランタイム\n",
        "   * ランタイムタイプを変更\n",
        "       * ハードウェアアクセラレータの選択\n",
        "           ```\n",
        "           None ⇒ GPU に変更\n",
        "           ```\n",
        "\n",
        "## コードの実行方法\n",
        "\n",
        "* 各コードセル左上の再生ボタンを押下、または、Ctrl+Enter、または、Shift+Enterのどれでも実行できます。  \n",
        "左上再生ボタンとCtrl+Enterが（たぶん）同じ意味で、当該コードセルを実行し、Shift+Enterは当該コードセルを実行＆ブランクのコードセルを用意する、という動作をするみたいです。\n",
        "* 先頭に「!」を付けるとLinuxコマンドを実行することができます。\n",
        "* コードをある程度書いたところでTabキーを押下すると補完機能がつかます。\n",
        "\n",
        "\n",
        "## 参考サイト\n",
        "\n",
        "* [Colaboratory で利用できるマシンリソースや構成を調べる](https://qiita.com/ao_log/items/52185e9c991e14ef70a4)\n",
        "\n",
        "* [TPUが無料で解禁された！知らないと損をするGoogle Colabの隠し技と基本操作](http://www.algo-fx-blog.com/google-colab-tpu/)"
      ]
    },
    {
      "cell_type": "markdown",
      "metadata": {
        "id": "usebf55Au5Kc",
        "colab_type": "text"
      },
      "source": [
        "# OS情報"
      ]
    },
    {
      "cell_type": "code",
      "metadata": {
        "id": "iRAczlHBt67B",
        "colab_type": "code",
        "colab": {}
      },
      "source": [
        "!cat /etc/os-release"
      ],
      "execution_count": 0,
      "outputs": []
    },
    {
      "cell_type": "code",
      "metadata": {
        "id": "Gfax5vl30AX_",
        "colab_type": "code",
        "colab": {}
      },
      "source": [
        "!cat /etc/issue"
      ],
      "execution_count": 0,
      "outputs": []
    },
    {
      "cell_type": "markdown",
      "metadata": {
        "id": "VOx12b7C68SP",
        "colab_type": "text"
      },
      "source": [
        "# ハードウェアの確認\n",
        "\n",
        "lshwコマンドをインストールしてColaboratoryのハードウェア情報を確認する。"
      ]
    },
    {
      "cell_type": "code",
      "metadata": {
        "id": "1qDx30ej6aSG",
        "colab_type": "code",
        "colab": {}
      },
      "source": [
        "!sudo apt-get install lshw"
      ],
      "execution_count": 0,
      "outputs": []
    },
    {
      "cell_type": "code",
      "metadata": {
        "id": "BP8HK7AP6qXl",
        "colab_type": "code",
        "colab": {}
      },
      "source": [
        "!lshw"
      ],
      "execution_count": 0,
      "outputs": []
    },
    {
      "cell_type": "markdown",
      "metadata": {
        "id": "Y_5vXBaKvfwa",
        "colab_type": "text"
      },
      "source": [
        "# CPU情報を見る"
      ]
    },
    {
      "cell_type": "code",
      "metadata": {
        "id": "wihKjWRSvjJF",
        "colab_type": "code",
        "colab": {}
      },
      "source": [
        "!cat /proc/cpuinfo"
      ],
      "execution_count": 0,
      "outputs": []
    },
    {
      "cell_type": "markdown",
      "metadata": {
        "id": "w4ZYGTw6wCyg",
        "colab_type": "text"
      },
      "source": [
        "# 搭載メモリ量の確認"
      ]
    },
    {
      "cell_type": "code",
      "metadata": {
        "id": "u3u3rWEvwIbu",
        "colab_type": "code",
        "colab": {}
      },
      "source": [
        "!cat /proc/meminfo"
      ],
      "execution_count": 0,
      "outputs": []
    },
    {
      "cell_type": "code",
      "metadata": {
        "id": "bgMfqERE0nUf",
        "colab_type": "code",
        "colab": {}
      },
      "source": [
        "!free -h"
      ],
      "execution_count": 0,
      "outputs": []
    },
    {
      "cell_type": "markdown",
      "metadata": {
        "id": "gRC3K8Od7c3-",
        "colab_type": "text"
      },
      "source": [
        "# ディスク容量\n",
        "\n",
        "ハードウェアアクセラレータを使用する／しない、GPU／TPUで容量が変わるそうです。"
      ]
    },
    {
      "cell_type": "code",
      "metadata": {
        "id": "8JamLCn-7cKT",
        "colab_type": "code",
        "colab": {}
      },
      "source": [
        "!df -h"
      ],
      "execution_count": 0,
      "outputs": []
    },
    {
      "cell_type": "markdown",
      "metadata": {
        "id": "ukE7XPFVw72K",
        "colab_type": "text"
      },
      "source": [
        "# GPU\n",
        "\n",
        "GPUに関しては、Tesla K80（約80万円）とTesla T4（約40万円）のどちらかがランダムに割り当てられるという説を見かけました。  \n",
        "あまりに気にしていなかったのですが、たまに探りを入れてみようと思います。"
      ]
    },
    {
      "cell_type": "code",
      "metadata": {
        "id": "PG9jg4HKw_Av",
        "colab_type": "code",
        "colab": {}
      },
      "source": [
        "!nvidia-smi"
      ],
      "execution_count": 0,
      "outputs": []
    },
    {
      "cell_type": "code",
      "metadata": {
        "id": "VteZfjpQ0FKn",
        "colab_type": "code",
        "colab": {}
      },
      "source": [
        "!cat /proc/driver/nvidia/gpus/0000:00:04.0/information"
      ],
      "execution_count": 0,
      "outputs": []
    }
  ]
}